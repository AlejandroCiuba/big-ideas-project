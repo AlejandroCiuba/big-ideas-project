{
 "cells": [
  {
   "cell_type": "markdown",
   "id": "radio-techno",
   "metadata": {},
   "source": [
    "# Project Layout\n",
    "- Takes The User's Name\n",
    "- Takes Their Age\n",
    "- Tells Them Their Name And How Many Months They Have Been Alive"
   ]
  },
  {
   "cell_type": "code",
   "execution_count": 8,
   "id": "needed-donna",
   "metadata": {},
   "outputs": [
    {
     "name": "stdin",
     "output_type": "stream",
     "text": [
      "Tell Me Your Name:  Alejandro\n",
      "What Is Your Birthday? (Day/Month/Year):  12/06/2001\n",
      "What Is Today's Date? (Day/Month/Year):  4/3/2021\n"
     ]
    },
    {
     "name": "stdout",
     "output_type": "stream",
     "text": [
      "Congratulations Alejandro You've Been Alive For 19 Years 3 Months And 4 Days!!!\n"
     ]
    }
   ],
   "source": [
    "noValInput = True\n",
    "\n",
    "#Standard Exception Message\n",
    "exception = \"Invalid Input\"\n",
    "\n",
    "#While There Is Incorrect Input\n",
    "while(noValInput):\n",
    "    try:\n",
    "        name = input(prompt = \"Tell Me Your Name: \")\n",
    "        #Removes Ending Whitespace For Formatting\n",
    "        name = name.rstrip()\n",
    "        age = input(prompt = \"What Is Your Birthday? (Day/Month/Year): \").split(\"/\")\n",
    "        date = input(prompt = \"What Is Today's Date? (Day/Month/Year): \").split(\"/\")\n",
    "        \n",
    "        if len(age) != 3 or len(date) != 3:\n",
    "            exception = \"Invalid Input, Format Is: Day/Month/Year.\"\n",
    "            raise Exception()\n",
    "            \n",
    "        #Exit The Loop After Receiving Correct Input\n",
    "        noValInput = False\n",
    "            \n",
    "    except:\n",
    "        print(exception)\n",
    "\n",
    "#Age In Years, Accounts For Birthday\n",
    "if int(age[1]) > int(date[1]):\n",
    "    ageYears = 2021 - int(age[2]) - 1\n",
    "else:\n",
    "    ageYears = 2021 - int(age[2])        \n",
    "        \n",
    "print(\"Congratulations\", name, \"You've Been Alive For\", ageYears, \"Years\", date[1], \"Months And\", date[0], \"Days!!!\")"
   ]
  }
 ],
 "metadata": {
  "kernelspec": {
   "display_name": "Python 3",
   "language": "python",
   "name": "python3"
  },
  "language_info": {
   "codemirror_mode": {
    "name": "ipython",
    "version": 3
   },
   "file_extension": ".py",
   "mimetype": "text/x-python",
   "name": "python",
   "nbconvert_exporter": "python",
   "pygments_lexer": "ipython3",
   "version": "3.7.9"
  }
 },
 "nbformat": 4,
 "nbformat_minor": 5
}
