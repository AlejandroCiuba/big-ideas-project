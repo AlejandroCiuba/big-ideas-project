{
 "cells": [
  {
   "cell_type": "markdown",
   "id": "weird-exclusion",
   "metadata": {},
   "source": [
    "# Project Layout\n",
    "- Takes The User's Name\n",
    "- Takes Their Age\n",
    "- Tells Them Their Name And How Many Months They Have Been Alive"
   ]
  },
  {
   "cell_type": "code",
   "execution_count": 2,
   "id": "popular-diameter",
   "metadata": {},
   "outputs": [
    {
     "name": "stdin",
     "output_type": "stream",
     "text": [
      "Tell Me Your Name:  Alejandro\n",
      "Tell Me Your Age (In Years):  45\n"
     ]
    },
    {
     "name": "stdout",
     "output_type": "stream",
     "text": [
      "Congratulations Alejandro You've Been Alive For Approxiamately 540 Months\n"
     ]
    }
   ],
   "source": [
    "noValInput = True\n",
    "\n",
    "while(noValInput):\n",
    "    try:\n",
    "        name = input(prompt = \"Tell Me Your Name: \")\n",
    "        #Removes Ending Whitespace For Formatting\n",
    "        name = name.rstrip()\n",
    "        age = int(input(prompt = \"Tell Me Your Age (In Years): \"))\n",
    "        \n",
    "        #Exit The Loop After Receiving Correct Input\n",
    "        noValInput = False\n",
    "        \n",
    "    except:\n",
    "        print(\"You Must Enter An Integer For Age!!!\")\n",
    "\n",
    "print(\"Congratulations\", name, \"You've Been Alive For Approxiamately\", (age * 12), \"Months\")"
   ]
  },
  {
   "cell_type": "code",
   "execution_count": null,
   "id": "adapted-booking",
   "metadata": {},
   "outputs": [],
   "source": []
  }
 ],
 "metadata": {
  "kernelspec": {
   "display_name": "Python 3",
   "language": "python",
   "name": "python3"
  },
  "language_info": {
   "codemirror_mode": {
    "name": "ipython",
    "version": 3
   },
   "file_extension": ".py",
   "mimetype": "text/x-python",
   "name": "python",
   "nbconvert_exporter": "python",
   "pygments_lexer": "ipython3",
   "version": "3.7.9"
  }
 },
 "nbformat": 4,
 "nbformat_minor": 5
}
